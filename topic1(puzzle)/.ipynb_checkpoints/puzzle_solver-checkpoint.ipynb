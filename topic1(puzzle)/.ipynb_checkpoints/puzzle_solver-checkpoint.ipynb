{
 "cells": [
  {
   "cell_type": "code",
   "execution_count": null,
   "id": "a889ac27",
   "metadata": {},
   "outputs": [],
   "source": [
    "游戏solver：队列 下一步 打印途径"
   ]
  },
  {
   "cell_type": "code",
   "execution_count": 70,
   "id": "6cbfc81d",
   "metadata": {},
   "outputs": [],
   "source": [
    "import numpy as np\n",
    "import random\n",
    "from heapq import *\n",
    "import time"
   ]
  },
  {
   "cell_type": "code",
   "execution_count": null,
   "id": "12e4ea51",
   "metadata": {},
   "outputs": [],
   "source": [
    "class State:\n",
    "    def __init__(self, block_length):\n",
    "        self.board = Board(block_length)\n",
    "        self.moves = 0\n",
    "        self.h = float('inf')\n",
    "        self.block_length = block_length\n",
    "        self.parent = None\n",
    "    def manhattan(self):\n",
    "        value = 0\n",
    "        b = self.board.get_board()\n",
    "        for i in range(self.block_length):\n",
    "            for j in range(self.block_length):\n",
    "                temp = b[i][j]\n",
    "                if temp != 0:\n",
    "                    right_x = (temp-1)/self.block_length\n",
    "                    right_y = (temp-1)%self.block_length\n",
    "                    value += abs(i-right_x)+abs(j-right_y)\n",
    "        return value\n",
    "    def hamming(self):\n",
    "        value = 0\n",
    "        b = self.board.get_board()\n",
    "        for i in range(self.block_length):\n",
    "            for j in range(self.block_length):\n",
    "                temp = b[i][j]\n",
    "                if temp != 0:\n",
    "                    value += 1 if temp!=i*self.block_length+j+1 else 0\n",
    "        return value\n",
    "    def init(self, random_step):\n",
    "        self.board.random_initialize(random_step)\n",
    "        self.h = hamming()\n",
    "    \n",
    "class Board:\n",
    "    def __init__(self, block_length=3):\n",
    "        self.block_length  = block_length\n",
    "        self.board = np.append(np.arange(1,16),0).reshape(block_length,block_length)\n",
    "    def random_initialize(self, random_step):\n",
    "        \"\"\"\n",
    "        random_step: 棋盘随机初始化经历的步数\n",
    "        \"\"\"\n",
    "        block_length = self.block_length\n",
    "        board = self.board\n",
    "        pos_x = pos_y = 0 # 初始0的位置\n",
    "        while random_step != 0:\n",
    "            random_step -= 1\n",
    "            direction = random.randint(1,4) # 1-4代表4个方向\n",
    "            # left\n",
    "            if pos_x > 0 and direction == 1:\n",
    "                board[pos_x][pos_y], board[pos_x-1][pos_y] = board[pos_x-1][pos_y],board[pos_x][pos_y]\n",
    "                pos_x -= 1\n",
    "            # right\n",
    "            elif pos_x < block_length-1 and direction == 2:\n",
    "                board[pos_x][pos_y], board[pos_x+1][pos_y] = board[pos_x+1][pos_y],board[pos_x][pos_y]\n",
    "                pos_x += 1\n",
    "            elif pos_y > 0 and direction == 3:\n",
    "                board[pos_x][pos_y], board[pos_x][pos_y-1] = board[pos_x][pos_y-1],board[pos_x][pos_y]\n",
    "                y -= 1\n",
    "            elif pos_y < block_length -1 and direction == 4:\n",
    "                board[pos_x][pos_y], board[pos_x][pos_y+1] = board[pos_x][pos_y+1],board[pos_x][pos_y]\n",
    "                pos_y += 1\n",
    "            else:\n",
    "                continue\n",
    "        self.board = board\n",
    "    def print_board(self):\n",
    "        for i in range(self.block_length):\n",
    "            print(self.board[i])\n",
    "        print(\"\\n\")\n",
    "    def get_board(self):\n",
    "        return self.board\n",
    "\n",
    "class PuzzleSolver:\n",
    "    def __init__(self, block_lengh, random_steps=30):\n",
    "        self.start_s = State(block_length)\n",
    "        self.start_s.init(random_steps)\n",
    "        self.pq = []\n",
    "    def next_step(state):\n",
    "        pass\n",
    "    def main(self):\n",
    "        target = Board(self.block_length)\n",
    "        target.random_initialize(0)\n",
    "        target_board = target.get_board()\n",
    "        start=time.perf_counter()\n",
    "        looptimes=100\n",
    "        for i in range(looptimes):\n",
    "            start_s = State()\n",
    "            start_s.init(30)\n",
    "            next_step(start_s)\n",
    "            \n",
    "        end=time.perf_counter()\n",
    "        "
   ]
  },
  {
   "cell_type": "code",
   "execution_count": null,
   "id": "a1dc7cb0",
   "metadata": {},
   "outputs": [],
   "source": []
  },
  {
   "cell_type": "code",
   "execution_count": null,
   "id": "d02ea46f",
   "metadata": {},
   "outputs": [],
   "source": []
  },
  {
   "cell_type": "code",
   "execution_count": 56,
   "id": "04639e30",
   "metadata": {},
   "outputs": [],
   "source": [
    "import pandas as pd\n",
    "import numpy as np\n",
    "import os\n",
    "import sys"
   ]
  },
  {
   "cell_type": "code",
   "execution_count": 53,
   "id": "f22b8c9a",
   "metadata": {},
   "outputs": [],
   "source": [
    "path = r'C:\\Users\\liuguanting\\Desktop\\新人指南'\n",
    "os.chdir(path)"
   ]
  },
  {
   "cell_type": "code",
   "execution_count": 39,
   "id": "88f00683",
   "metadata": {},
   "outputs": [],
   "source": [
    "file_name = '需求2.xlsx'\n",
    "data = pd.read_excel(file_name)\n",
    "data.per_readtime = data.per_readtime/60\n",
    "readtime = data.per_readtime    "
   ]
  },
  {
   "cell_type": "code",
   "execution_count": 46,
   "id": "307f5bd5",
   "metadata": {},
   "outputs": [
    {
     "name": "stdout",
     "output_type": "stream",
     "text": [
      "readtime over 1 minutes:18626 persons\n",
      "readtime over 3 minutes:17727 persons\n",
      "readtime over 5 minutes:16986 persons\n",
      "readtime over 10 minutes:15613 persons\n",
      "readtime over 15 minutes:14615 persons\n",
      "readtime over 20 minutes:13881 persons\n",
      "readtime over 30 minutes:12691 persons\n",
      "readtime over 60 minutes:10230 persons\n",
      "readtime over 90 minutes:8628 persons\n",
      "readtime over 100 minutes:8205 persons\n"
     ]
    }
   ],
   "source": [
    "timelong = [1,3,5,10,15,20,30,60,90,100]\n",
    "result = []\n",
    "for num in timelong:\n",
    "    v = np.sum(readtime>num)\n",
    "    print(f\"readtime over {num} minutes:{v} persons\")\n",
    "    result.append(v)"
   ]
  },
  {
   "cell_type": "code",
   "execution_count": 60,
   "id": "3554a84f",
   "metadata": {},
   "outputs": [],
   "source": [
    "pd.DataFrame([*zip(timelong,result)],columns=['readtime','uv']).to_excel('requirement2.xlsx',index=False)"
   ]
  },
  {
   "cell_type": "code",
   "execution_count": null,
   "id": "4be4ae82",
   "metadata": {},
   "outputs": [],
   "source": []
  }
 ],
 "metadata": {
  "kernelspec": {
   "display_name": "Python 3 (ipykernel)",
   "language": "python",
   "name": "python3"
  },
  "language_info": {
   "codemirror_mode": {
    "name": "ipython",
    "version": 3
   },
   "file_extension": ".py",
   "mimetype": "text/x-python",
   "name": "python",
   "nbconvert_exporter": "python",
   "pygments_lexer": "ipython3",
   "version": "3.9.7"
  }
 },
 "nbformat": 4,
 "nbformat_minor": 5
}
